{
 "cells": [
  {
   "cell_type": "code",
   "execution_count": 11,
   "id": "8a5ebac7-2b9b-496a-a13e-ea97d53eb300",
   "metadata": {},
   "outputs": [
    {
     "name": "stdout",
     "output_type": "stream",
     "text": [
      "5\n"
     ]
    }
   ],
   "source": [
    "a = [1,2,3,4,5]\n",
    "b = [3,5,5,64,22]\n",
    "print(len(a))"
   ]
  },
  {
   "cell_type": "code",
   "execution_count": 25,
   "id": "65f0170e-2cf9-4988-bcc5-1698877ca478",
   "metadata": {},
   "outputs": [
    {
     "name": "stdout",
     "output_type": "stream",
     "text": [
      "3\n"
     ]
    }
   ],
   "source": [
    "a = [1,2,3,4,5]\n",
    "b = [3,5,5,64,22]\n",
    "print(a[2])\n"
   ]
  },
  {
   "cell_type": "code",
   "execution_count": 55,
   "id": "ec7d27ae-1ce9-4c75-b6e4-6c6bcae8757b",
   "metadata": {},
   "outputs": [
    {
     "name": "stdout",
     "output_type": "stream",
     "text": [
      "['akhilesh', 'akhill', 'abhiii', 'akh', 'hariii', '00', '12']\n"
     ]
    }
   ],
   "source": [
    "a = ['akhilesh', 'akhill', 'abhiii','akh','hariii']\n",
    "\n",
    "a.extend({'00','12'})\n",
    "print(a)"
   ]
  },
  {
   "cell_type": "code",
   "execution_count": 65,
   "id": "5576332b-21a9-49a7-ab28-f6a2c5515ee1",
   "metadata": {},
   "outputs": [
    {
     "name": "stdout",
     "output_type": "stream",
     "text": [
      "['akhill', 'abhiii', 'akh', 'hariii']\n"
     ]
    }
   ],
   "source": [
    "a = ['akhilesh', 'akhill', 'abhiii','akh','hariii']\n",
    "a.pop(0)\n",
    "print(a)"
   ]
  },
  {
   "cell_type": "code",
   "execution_count": 89,
   "id": "7ff79cc8-a067-45a0-9982-d0fb9e85d260",
   "metadata": {},
   "outputs": [
    {
     "name": "stdout",
     "output_type": "stream",
     "text": [
      "You are not allowed\n"
     ]
    }
   ],
   "source": [
    "akhilesh = \"female\"\n",
    "\n",
    "if akhilesh == \"male\":\n",
    "    print(\"You are allowed\")\n",
    "else:\n",
    "    print(\"You are not allowed\")"
   ]
  },
  {
   "cell_type": "code",
   "execution_count": 109,
   "id": "77bb79b4-b581-4317-9320-1ee84362d511",
   "metadata": {},
   "outputs": [
    {
     "name": "stdout",
     "output_type": "stream",
     "text": [
      "<class 'str'>\n"
     ]
    }
   ],
   "source": [
    "name = \"akhileshhhh\"\n",
    "print(type(name))"
   ]
  },
  {
   "cell_type": "code",
   "execution_count": 115,
   "id": "ce89e9f5-91b8-4819-9560-04e2c38800a1",
   "metadata": {},
   "outputs": [
    {
     "name": "stdout",
     "output_type": "stream",
     "text": [
      "10\n"
     ]
    }
   ],
   "source": [
    "x = -10\n",
    "y = +(x)\n",
    "print(y)"
   ]
  },
  {
   "cell_type": "code",
   "execution_count": 123,
   "id": "1ecaa194-1cec-4e00-a5d6-79eb517674a2",
   "metadata": {},
   "outputs": [
    {
     "name": "stdout",
     "output_type": "stream",
     "text": [
      "no come in\n"
     ]
    }
   ],
   "source": [
    "a = 1000\n",
    "\n",
    "if a >= 2000:\n",
    "    print(\"come in\")\n",
    "else:\n",
    "    print(\"no come in\")"
   ]
  },
  {
   "cell_type": "code",
   "execution_count": 139,
   "id": "717766c8-fac2-4914-9740-ffe787f6b5ef",
   "metadata": {},
   "outputs": [
    {
     "data": {
      "text/plain": [
       "True"
      ]
     },
     "execution_count": 139,
     "metadata": {},
     "output_type": "execute_result"
    }
   ],
   "source": [
    "3 in  [1,2,3,4,5]\n"
   ]
  },
  {
   "cell_type": "code",
   "execution_count": 147,
   "id": "00def6eb-5379-4137-8447-a86c98d2eee7",
   "metadata": {},
   "outputs": [
    {
     "name": "stdout",
     "output_type": "stream",
     "text": [
      "akhilesh is in this project\n"
     ]
    }
   ],
   "source": [
    "a = \"akhilesh\"\n",
    "\n",
    "if \"akhilesh\" in a:\n",
    "    print(\"akhilesh is in this project\")\n",
    "else:\n",
    "    print(\"not in this projects\")"
   ]
  },
  {
   "cell_type": "code",
   "execution_count": 161,
   "id": "ade599a5-261c-4dd4-a5ea-5cd0cfa9af54",
   "metadata": {},
   "outputs": [
    {
     "name": "stdout",
     "output_type": "stream",
     "text": [
      "user name invalid\n"
     ]
    }
   ],
   "source": [
    "user = \"akhsws\"\n",
    "password = \"password\"\n",
    "\n",
    "if user ==\"akhilesh\" and password ==\"password\":\n",
    "    print(\"welcome akhilesh\")\n",
    "elif user ==\"akhilesh\" and password ==\"anything\":\n",
    "    print(\"password in valid\")\n",
    "elif user == \"akhsws\" and password ==\"password\":\n",
    "    print(\"user name invalid\")"
   ]
  },
  {
   "cell_type": "code",
   "execution_count": 169,
   "id": "6983dd04-943c-4a7a-b8f1-7339897d6f7a",
   "metadata": {},
   "outputs": [
    {
     "ename": "SyntaxError",
     "evalue": "expected ':' (1278260237.py, line 1)",
     "output_type": "error",
     "traceback": [
      "\u001b[1;36m  Cell \u001b[1;32mIn[169], line 1\u001b[1;36m\u001b[0m\n\u001b[1;33m    for i in range(10)\u001b[0m\n\u001b[1;37m                      ^\u001b[0m\n\u001b[1;31mSyntaxError\u001b[0m\u001b[1;31m:\u001b[0m expected ':'\n"
     ]
    }
   ],
   "source": []
  },
  {
   "cell_type": "code",
   "execution_count": 173,
   "id": "a8a3ba26-a84b-4e0d-b5d9-f84b75f96ff0",
   "metadata": {},
   "outputs": [
    {
     "name": "stdout",
     "output_type": "stream",
     "text": [
      "10\n",
      "<class 'int'>\n"
     ]
    }
   ],
   "source": [
    "a = 10 \n",
    "print(a)\n",
    "print(type(a))"
   ]
  },
  {
   "cell_type": "code",
   "execution_count": null,
   "id": "93697307-9ce3-428f-9113-e087bd85d2e8",
   "metadata": {},
   "outputs": [],
   "source": []
  }
 ],
 "metadata": {
  "kernelspec": {
   "display_name": "Python 3 (ipykernel)",
   "language": "python",
   "name": "python3"
  },
  "language_info": {
   "codemirror_mode": {
    "name": "ipython",
    "version": 3
   },
   "file_extension": ".py",
   "mimetype": "text/x-python",
   "name": "python",
   "nbconvert_exporter": "python",
   "pygments_lexer": "ipython3",
   "version": "3.12.4"
  }
 },
 "nbformat": 4,
 "nbformat_minor": 5
}
